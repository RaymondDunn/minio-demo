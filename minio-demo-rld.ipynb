{
 "cells": [
  {
   "cell_type": "markdown",
   "metadata": {},
   "source": [
    "# Demo to demonstrate basic functionality for interacting with minio server\n",
    "### Minio is wrapper allowing for hosting of Amazon S3-like storage on your own local server"
   ]
  },
  {
   "cell_type": "markdown",
   "metadata": {},
   "source": [
    "# Docker host of minio\n",
    "### Docker is a tool to make it super easy to create, deploy, and run applications, like a minio server, by creating and hosting the app on a virtual computer ('container')."
   ]
  },
  {
   "cell_type": "code",
   "execution_count": 9,
   "metadata": {},
   "outputs": [],
   "source": [
    "# after installing docker, use docker command-line tool to start up container and save data in container to a local directory so that we can look at it on our host machine. This also allows for persistent data storage for minio server\n",
    "# This is run in shell, not python\n",
    "# docker run -p 9000:9000 --name minio1 -v C:\\Users\\rldun\\data:/data minio/minio server /data\n",
    "# This downloads and runs a docker image for minio, which is then mapped to localhost port 9000 for easy access on host. "
   ]
  },
  {
   "cell_type": "markdown",
   "metadata": {},
   "source": [
    "# Configure minio python environment"
   ]
  },
  {
   "cell_type": "code",
   "execution_count": 6,
   "metadata": {},
   "outputs": [],
   "source": [
    "# again this is shell, not python\n",
    "# conda create -n minio python=3.7\n",
    "\n",
    "# Set environment as active and install some packages\n",
    "# (source/conda) activate minio\n",
    "# pip install tifffile matplotlib minio jupyter numpy"
   ]
  },
  {
   "cell_type": "markdown",
   "metadata": {},
   "source": [
    "# Connect to docker minio server"
   ]
  },
  {
   "cell_type": "code",
   "execution_count": 15,
   "metadata": {},
   "outputs": [
    {
     "name": "stdout",
     "output_type": "stream",
     "text": [
      "boops 2020-02-14 02:51:27.026000+00:00\n",
      "data 2020-03-02 21:16:20.278000+00:00\n"
     ]
    }
   ],
   "source": [
    "from minio import Minio\n",
    "\n",
    "# localhost is http hence secure=False... setting up https is possible but for another time\n",
    "client = Minio('127.0.0.1:9000', access_key='minioadmin', secret_key='minioadmin', secure=False) \n",
    "\n",
    "# grab buckets\n",
    "buckets = client.list_buckets()\n",
    "\n",
    "# print buckets\n",
    "for bucket in buckets:\n",
    "    print(bucket.name, bucket.creation_date)"
   ]
  },
  {
   "cell_type": "markdown",
   "metadata": {},
   "source": [
    "# Upload and download a single frame from a recording\n",
    "### We can can work with files or byte streams. Working with byte streams means we upload/download the files in memory, whereas working with files goes straight to disk.\n",
    "### To compute on minio file objects, we would download the file to disk, load it into memory, then do our computations\n",
    "### To compute on byte streams, we load the byte stream directly into memory and do our computations"
   ]
  },
  {
   "cell_type": "code",
   "execution_count": 16,
   "metadata": {},
   "outputs": [
    {
     "name": "stdout",
     "output_type": "stream",
     "text": [
      "Arrays are equal!\n"
     ]
    }
   ],
   "source": [
    "from minio.error import ResponseError\n",
    "import io\n",
    "import numpy as np\n",
    "import tifffile as tf\n",
    "\n",
    "\n",
    "# params\n",
    "fname = 'C:/Users/rldun/Desktop/20200204-10-46-53_0-500.tiff'\n",
    "bucketname = 'data'\n",
    "objname = 'f0'\n",
    "\n",
    "# load tiff\n",
    "d = tf.imread(fname)\n",
    "\n",
    "# connect to minio\n",
    "client = Minio('127.0.0.1:9000', access_key='minioadmin', secret_key='minioadmin', secure=False)\n",
    "\n",
    "# convert object to byte buffer\n",
    "f = d[0,:,:]\n",
    "b = f.tobytes()\n",
    "bio = io.BytesIO(b)\n",
    "\n",
    "# upload object\n",
    "try:\n",
    "    client.put_object(bucketname, objname, bio, len(b))\n",
    "except ResponseError as err:\n",
    "    print('Error during upload: {}'.format(err))\n",
    "\n",
    "# download object\n",
    "try:\n",
    "    downloaded_data = client.get_object(bucketname, objname)\n",
    "except ResponseError as err:\n",
    "    print('Error during download: {}'.format(err))\n",
    "\n",
    "# compare\n",
    "res = downloaded_data.read()\n",
    "new_f = np.frombuffer(res, dtype=f.dtype).reshape(f.shape)\n",
    "if np.array_equal(f, new_f):\n",
    "    print('Arrays are equal!')"
   ]
  },
  {
   "cell_type": "markdown",
   "metadata": {},
   "source": [
    "# Upload an entire recording as bytes\n",
    "### Because we're working with byte streams, we can just convert our whole numpy array into a sequence of bytes for convenient i/o"
   ]
  },
  {
   "cell_type": "code",
   "execution_count": 17,
   "metadata": {},
   "outputs": [
    {
     "name": "stdout",
     "output_type": "stream",
     "text": [
      "That took 5.914475440979004 seconds to transfer (500, 176, 602) frames!\n"
     ]
    }
   ],
   "source": [
    "import time\n",
    "\n",
    "# params\n",
    "fname = 'C:/Users/rldun/Desktop/20200204-10-46-53_0-500.tiff'\n",
    "bucketname = 'data'\n",
    "fname_root = '20200204-10-46-53_short/'\n",
    "\n",
    "# load tiff\n",
    "d = tf.imread(fname)\n",
    "\n",
    "# connect to minio\n",
    "client = Minio('127.0.0.1:9000', access_key='minioadmin', secret_key='minioadmin', secure=False)\n",
    "\n",
    "tstart = time.time()\n",
    "try:\n",
    "    b = d.tobytes()\n",
    "    bio = io.BytesIO(b)\n",
    "    client.put_object(bucketname, fname_root + 'data', bio, len(b))\n",
    "except ResponseError as err:\n",
    "    print('Error during whole-file upload: {}'.format(err))\n",
    "\n",
    "tend = time.time()\n",
    "\n",
    "print('That took {} seconds to transfer recording of shape {}!'.format(tend - tstart, d.shape))\n",
    "\n"
   ]
  },
  {
   "cell_type": "markdown",
   "metadata": {},
   "source": [
    "# Grab individual frames out of entire byte-ified recording\n",
    "### Using the appropriate offsets, we can get partial chunks out of a byte-object to extract individual frames\n",
    "### Here we're loading a single frame from the data we uploaded above"
   ]
  },
  {
   "cell_type": "code",
   "execution_count": 18,
   "metadata": {},
   "outputs": [
    {
     "name": "stdout",
     "output_type": "stream",
     "text": [
      "Arrays are equal!\n"
     ]
    }
   ],
   "source": [
    "# params\n",
    "fname = 'C:/Users/rldun/Desktop/20200204-10-46-53_0-500.tiff'\n",
    "bucketname = 'data'\n",
    "fname_root = '20200204-10-46-53_short/'\n",
    "objname = fname_root + 'data'\n",
    "\n",
    "# load tiff\n",
    "d = tf.imread(fname)\n",
    "\n",
    "# connect to minio\n",
    "client = Minio('127.0.0.1:9000', access_key='minioadmin', secret_key='minioadmin', secure=False)\n",
    "\n",
    "# get number of bytes in single frame...\n",
    "f_ndx_to_grab = 20\n",
    "f = d[f_ndx_to_grab,:,:]\n",
    "b = f.tobytes()\n",
    "num_bytes_per_frame = len(b)\n",
    "\n",
    "try:\n",
    "    downloaded_data = client.get_partial_object(bucketname, objname, offset=f_ndx_to_grab*num_bytes_per_frame, length=num_bytes_per_frame)\n",
    "except ResponseError as err:\n",
    "    print('Error during download: {}'.format(err))\n",
    "\n",
    "# compare downloaded chunk!\n",
    "res = downloaded_data.read()\n",
    "new_f = np.frombuffer(res, dtype=f.dtype).reshape(f.shape)\n",
    "if np.array_equal(f, new_f):\n",
    "    print('Arrays are equal!')\n"
   ]
  },
  {
   "cell_type": "markdown",
   "metadata": {},
   "source": [
    "# Unknowns\n",
    "### What are the standout unknowns that come to mind?"
   ]
  },
  {
   "cell_type": "code",
   "execution_count": null,
   "metadata": {},
   "outputs": [],
   "source": [
    "1) How to get docker on our buffalo NAS?\n",
    "2) How to connect to hosted minio from external machine?\n",
    "3) Best way to upload to NAS minio server? Local app?"
   ]
  }
 ],
 "metadata": {
  "kernelspec": {
   "display_name": "Python 3",
   "language": "python",
   "name": "python3"
  },
  "language_info": {
   "codemirror_mode": {
    "name": "ipython",
    "version": 3
   },
   "file_extension": ".py",
   "mimetype": "text/x-python",
   "name": "python",
   "nbconvert_exporter": "python",
   "pygments_lexer": "ipython3",
   "version": "3.7.6"
  }
 },
 "nbformat": 4,
 "nbformat_minor": 4
}
